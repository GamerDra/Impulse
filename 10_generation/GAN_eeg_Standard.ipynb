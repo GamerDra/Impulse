{
  "metadata": {
    "kernelspec": {
      "language": "python",
      "display_name": "Python 3",
      "name": "python3"
    },
    "language_info": {
      "name": "python",
      "version": "3.10.12",
      "mimetype": "text/x-python",
      "codemirror_mode": {
        "name": "ipython",
        "version": 3
      },
      "pygments_lexer": "ipython3",
      "nbconvert_exporter": "python",
      "file_extension": ".py"
    },
    "kaggle": {
      "accelerator": "gpu",
      "dataSources": [
        {
          "sourceId": 10495954,
          "sourceType": "datasetVersion",
          "datasetId": 6498595
        }
      ],
      "dockerImageVersionId": 30840,
      "isInternetEnabled": true,
      "language": "python",
      "sourceType": "notebook",
      "isGpuEnabled": true
    },
    "colab": {
      "name": "GAN_eeg_Standard ",
      "provenance": []
    }
  },
  "nbformat_minor": 0,
  "nbformat": 4,
  "cells": [
    {
      "source": [
        "# IMPORTANT: RUN THIS CELL IN ORDER TO IMPORT YOUR KAGGLE DATA SOURCES,\n",
        "# THEN FEEL FREE TO DELETE THIS CELL.\n",
        "# NOTE: THIS NOTEBOOK ENVIRONMENT DIFFERS FROM KAGGLE'S PYTHON\n",
        "# ENVIRONMENT SO THERE MAY BE MISSING LIBRARIES USED BY YOUR\n",
        "# NOTEBOOK.\n",
        "import kagglehub\n",
        "ranjittanneru_impulse_path = kagglehub.dataset_download('ranjittanneru/impulse')\n",
        "\n",
        "print('Data source import complete.')\n"
      ],
      "metadata": {
        "id": "3DGSnZwXXvfU"
      },
      "cell_type": "code",
      "outputs": [],
      "execution_count": null
    },
    {
      "cell_type": "code",
      "source": [
        "import os\n",
        "import numpy as np\n",
        "import torch\n",
        "import torch.nn as nn\n",
        "import torch.optim as optim\n",
        "from torch.utils.data import DataLoader, Dataset"
      ],
      "metadata": {
        "trusted": true,
        "execution": {
          "iopub.status.busy": "2025-01-18T11:50:49.014309Z",
          "iopub.execute_input": "2025-01-18T11:50:49.014626Z",
          "iopub.status.idle": "2025-01-18T11:50:52.261215Z",
          "shell.execute_reply.started": "2025-01-18T11:50:49.014596Z",
          "shell.execute_reply": "2025-01-18T11:50:52.260307Z"
        },
        "id": "txFpJDp6XvfW"
      },
      "outputs": [],
      "execution_count": null
    },
    {
      "cell_type": "code",
      "source": [
        "device = torch.device(\"cuda\" if torch.cuda.is_available() else \"cpu\")\n"
      ],
      "metadata": {
        "trusted": true,
        "execution": {
          "iopub.status.busy": "2025-01-18T11:50:55.55872Z",
          "iopub.execute_input": "2025-01-18T11:50:55.559038Z",
          "iopub.status.idle": "2025-01-18T11:50:55.609846Z",
          "shell.execute_reply.started": "2025-01-18T11:50:55.55901Z",
          "shell.execute_reply": "2025-01-18T11:50:55.608955Z"
        },
        "id": "Y6x_E0m4XvfX"
      },
      "outputs": [],
      "execution_count": null
    },
    {
      "cell_type": "code",
      "source": [
        "train_path = \"/kaggle/input/impulse/Impulse/EEG_Data/train_data\"\n",
        "latent_dim = 100  # Size of the latent space\n",
        "input_dim = 19 * 500  # Flattened size of each EEG sample\n",
        "num_classes = 4  # Number of classes\n",
        "batch_size = 128  # Batch size for training\n",
        "epochs = 1000  # Number of epochs\n",
        "learning_rate = 0.0001  # Learning rate\n",
        "beta = 0.1   # Weight for KL divergence in the loss"
      ],
      "metadata": {
        "trusted": true,
        "execution": {
          "iopub.status.busy": "2025-01-18T11:50:55.610877Z",
          "iopub.execute_input": "2025-01-18T11:50:55.611158Z",
          "iopub.status.idle": "2025-01-18T11:50:55.62818Z",
          "shell.execute_reply.started": "2025-01-18T11:50:55.611125Z",
          "shell.execute_reply": "2025-01-18T11:50:55.627367Z"
        },
        "id": "gbvqvNs1XvfX"
      },
      "outputs": [],
      "execution_count": null
    },
    {
      "cell_type": "code",
      "source": [
        "def normalize_data(data):\n",
        "    min_val = np.min(data)\n",
        "    max_val = np.max(data)\n",
        "    return 2 * (data - min_val) / (max_val - min_val + 1e-8) - 1  # Normalize to [-1, 1]\n"
      ],
      "metadata": {
        "trusted": true,
        "execution": {
          "iopub.status.busy": "2025-01-18T11:50:55.629656Z",
          "iopub.execute_input": "2025-01-18T11:50:55.629886Z",
          "iopub.status.idle": "2025-01-18T11:50:55.643638Z",
          "shell.execute_reply.started": "2025-01-18T11:50:55.629864Z",
          "shell.execute_reply": "2025-01-18T11:50:55.642763Z"
        },
        "id": "0xYbC0GlXvfY"
      },
      "outputs": [],
      "execution_count": null
    },
    {
      "cell_type": "code",
      "source": [
        "# Class mapping\n",
        "class_map = {\n",
        "    \"Normal\": 0,\n",
        "    \"Complex_Partial_Seizures\": 1,\n",
        "    \"Electrographic_Seizures\": 2,\n",
        "    \"Video_detected_Seizures_with_no_visual_change_over_EEG\": 3\n",
        "}"
      ],
      "metadata": {
        "trusted": true,
        "execution": {
          "iopub.status.busy": "2025-01-18T11:50:55.644755Z",
          "iopub.execute_input": "2025-01-18T11:50:55.644979Z",
          "iopub.status.idle": "2025-01-18T11:50:55.660199Z",
          "shell.execute_reply.started": "2025-01-18T11:50:55.644959Z",
          "shell.execute_reply": "2025-01-18T11:50:55.659346Z"
        },
        "id": "bNMmymBYXvfY"
      },
      "outputs": [],
      "execution_count": null
    },
    {
      "cell_type": "code",
      "source": [
        "train_data = []\n",
        "train_labels = []\n",
        "\n",
        "for class_name, class_label in class_map.items():\n",
        "    class_folder = os.path.join(train_path, class_name)\n",
        "    for file_name in os.listdir(class_folder):\n",
        "        file_path = os.path.join(class_folder, file_name)\n",
        "        signal = np.load(file_path)  # Assuming .npy files\n",
        "        if signal.shape == (19, 500):  # Ensure correct shape\n",
        "            normalized_signal = normalize_data(signal)\n",
        "            train_data.append(normalized_signal.flatten())  # Flatten to (19 * 500,)\n",
        "            train_labels.append(class_label)"
      ],
      "metadata": {
        "trusted": true,
        "execution": {
          "iopub.status.busy": "2025-01-18T11:50:55.661099Z",
          "iopub.execute_input": "2025-01-18T11:50:55.661354Z",
          "iopub.status.idle": "2025-01-18T11:51:30.682137Z",
          "shell.execute_reply.started": "2025-01-18T11:50:55.661335Z",
          "shell.execute_reply": "2025-01-18T11:51:30.681461Z"
        },
        "id": "x1FzxuyOXvfY"
      },
      "outputs": [],
      "execution_count": null
    },
    {
      "cell_type": "code",
      "source": [
        "# Convert to tensors\n",
        "train_data = torch.tensor(np.array(train_data), dtype=torch.float32)\n",
        "train_labels = torch.tensor(train_labels, dtype=torch.long)\n"
      ],
      "metadata": {
        "trusted": true,
        "execution": {
          "iopub.status.busy": "2025-01-18T11:51:30.682945Z",
          "iopub.execute_input": "2025-01-18T11:51:30.683152Z",
          "iopub.status.idle": "2025-01-18T11:51:30.934146Z",
          "shell.execute_reply.started": "2025-01-18T11:51:30.683133Z",
          "shell.execute_reply": "2025-01-18T11:51:30.933471Z"
        },
        "id": "Q2_pnWUSXvfZ"
      },
      "outputs": [],
      "execution_count": null
    },
    {
      "cell_type": "code",
      "source": [
        "class EEGDataset(Dataset):\n",
        "    def __init__(self, data, labels):\n",
        "        self.data = data\n",
        "        self.labels = labels\n",
        "\n",
        "    def __len__(self):\n",
        "        return len(self.data)\n",
        "\n",
        "    def __getitem__(self, idx):\n",
        "        return self.data[idx], self.labels[idx]\n"
      ],
      "metadata": {
        "trusted": true,
        "execution": {
          "iopub.status.busy": "2025-01-18T11:51:30.934955Z",
          "iopub.execute_input": "2025-01-18T11:51:30.935237Z",
          "iopub.status.idle": "2025-01-18T11:51:30.939502Z",
          "shell.execute_reply.started": "2025-01-18T11:51:30.935208Z",
          "shell.execute_reply": "2025-01-18T11:51:30.93878Z"
        },
        "id": "eGM4V9sGXvfZ"
      },
      "outputs": [],
      "execution_count": null
    },
    {
      "cell_type": "code",
      "source": [
        "dataset = EEGDataset(train_data, train_labels)\n",
        "dataloader = DataLoader(dataset, batch_size=batch_size, shuffle=True, num_workers=4, pin_memory=True)\n"
      ],
      "metadata": {
        "trusted": true,
        "execution": {
          "iopub.status.busy": "2025-01-18T11:51:30.941745Z",
          "iopub.execute_input": "2025-01-18T11:51:30.942035Z",
          "iopub.status.idle": "2025-01-18T11:51:30.955344Z",
          "shell.execute_reply.started": "2025-01-18T11:51:30.942014Z",
          "shell.execute_reply": "2025-01-18T11:51:30.954753Z"
        },
        "id": "793-GAA1XvfZ"
      },
      "outputs": [],
      "execution_count": null
    },
    {
      "cell_type": "code",
      "source": [
        "class Generator(nn.Module):\n",
        "    def __init__(self, z_dim, num_classes, input_dim):\n",
        "        super(Generator, self).__init__()\n",
        "\n",
        "        self.class_emb = nn.Sequential(\n",
        "            nn.Linear(num_classes, 16),\n",
        "            nn.LeakyReLU(0.2, inplace=True)\n",
        "        )\n",
        "\n",
        "        input_dim = z_dim + 16\n",
        "        self.net = nn.Sequential(\n",
        "        nn.Linear(input_dim, 256),\n",
        "        nn.BatchNorm1d(256),\n",
        "        nn.LeakyReLU(0.2, inplace=True),\n",
        "        nn.Linear(256, 512),\n",
        "        nn.BatchNorm1d(512),\n",
        "        nn.LeakyReLU(0.2, inplace=True),\n",
        "        nn.Linear(512, 19 * 500),\n",
        "        nn.Tanh()\n",
        "        )\n",
        "\n",
        "    def forward(self, z, labels):\n",
        "        class_emb = self.class_emb(labels)\n",
        "        x = torch.cat([z, class_emb], dim=1)\n",
        "        out = self.net(x)\n",
        "        return out\n"
      ],
      "metadata": {
        "trusted": true,
        "execution": {
          "iopub.status.busy": "2025-01-18T11:51:30.956474Z",
          "iopub.execute_input": "2025-01-18T11:51:30.956711Z",
          "iopub.status.idle": "2025-01-18T11:51:30.972156Z",
          "shell.execute_reply.started": "2025-01-18T11:51:30.956692Z",
          "shell.execute_reply": "2025-01-18T11:51:30.971382Z"
        },
        "id": "jgM0ipa6Xvfa"
      },
      "outputs": [],
      "execution_count": null
    },
    {
      "cell_type": "code",
      "source": [
        "class Discriminator(nn.Module):\n",
        "    def __init__(self, num_classes, input_dim):\n",
        "        super(Discriminator, self).__init__()\n",
        "\n",
        "        self.class_emb = nn.Sequential(\n",
        "            nn.Linear(num_classes, 16),\n",
        "            nn.LeakyReLU(0.2, inplace=True)\n",
        "        )\n",
        "\n",
        "        # Corrected input_dim calculation\n",
        "        input_dim = 19 * 500 + 16  # EEG flattened size + class embedding size\n",
        "        self.net = nn.Sequential(\n",
        "        nn.Linear(input_dim, 512),\n",
        "        nn.LeakyReLU(0.2, inplace=True),\n",
        "        nn.Dropout(0.3),\n",
        "        nn.Linear(512, 256),\n",
        "        nn.LeakyReLU(0.2, inplace=True),\n",
        "        nn.Dropout(0.3),\n",
        "        nn.Linear(256, 1),\n",
        "        nn.Sigmoid()\n",
        "        )\n",
        "\n",
        "\n",
        "    def forward(self, x, labels):\n",
        "        # x: (batch_size, 19 * 500)\n",
        "        class_emb = self.class_emb(labels)  # (batch_size, 16)\n",
        "        combined = torch.cat([x, class_emb], dim=1)  # Concatenate along feature dimension\n",
        "        validity = self.net(combined)\n",
        "        return validity\n"
      ],
      "metadata": {
        "trusted": true,
        "execution": {
          "iopub.status.busy": "2025-01-18T11:51:30.972951Z",
          "iopub.execute_input": "2025-01-18T11:51:30.973223Z",
          "iopub.status.idle": "2025-01-18T11:51:30.985991Z",
          "shell.execute_reply.started": "2025-01-18T11:51:30.973196Z",
          "shell.execute_reply": "2025-01-18T11:51:30.985153Z"
        },
        "id": "UVYSi9aLXvfa"
      },
      "outputs": [],
      "execution_count": null
    },
    {
      "cell_type": "code",
      "source": [
        "criterion = nn.BCELoss()\n"
      ],
      "metadata": {
        "trusted": true,
        "execution": {
          "iopub.status.busy": "2025-01-18T11:51:30.986801Z",
          "iopub.execute_input": "2025-01-18T11:51:30.98711Z",
          "iopub.status.idle": "2025-01-18T11:51:30.998252Z",
          "shell.execute_reply.started": "2025-01-18T11:51:30.987084Z",
          "shell.execute_reply": "2025-01-18T11:51:30.997449Z"
        },
        "id": "SzmuH8auXvfa"
      },
      "outputs": [],
      "execution_count": null
    },
    {
      "cell_type": "code",
      "source": [
        "# Instantiate models\n",
        "generator = Generator(latent_dim, num_classes, input_dim).to(device)\n",
        "discriminator = Discriminator(num_classes, input_dim).to(device)\n",
        "\n",
        "# Optimizers\n",
        "optimizer_G = optim.Adam(generator.parameters(), lr=learning_rate*5, betas=(0.5, 0.999))\n",
        "optimizer_D = optim.Adam(discriminator.parameters(), lr=learning_rate, betas=(0.5, 0.999))\n",
        "\n",
        "\n"
      ],
      "metadata": {
        "trusted": true,
        "execution": {
          "iopub.status.busy": "2025-01-18T11:51:30.999063Z",
          "iopub.execute_input": "2025-01-18T11:51:30.99934Z",
          "iopub.status.idle": "2025-01-18T11:51:33.042136Z",
          "shell.execute_reply.started": "2025-01-18T11:51:30.999313Z",
          "shell.execute_reply": "2025-01-18T11:51:33.041505Z"
        },
        "id": "ZWHvu957Xvfa"
      },
      "outputs": [],
      "execution_count": null
    },
    {
      "cell_type": "code",
      "source": [
        "\n",
        "# ----------------------------\n",
        "#  Training Loop\n",
        "# ----------------------------\n",
        "for epoch in range(epochs):\n",
        "    epoch_d_loss = 0\n",
        "    epoch_g_loss = 0\n",
        "    num_batches = len(dataloader)\n",
        "\n",
        "    for real_eeg, real_labels in dataloader:\n",
        "        real_eeg = real_eeg.to(device)\n",
        "        real_labels = torch.nn.functional.one_hot(real_labels, num_classes=num_classes).float().to(device)\n",
        "        batch_size = real_eeg.size(0)\n",
        "\n",
        "        # ---------------------\n",
        "        #  Train Discriminator\n",
        "        # ---------------------\n",
        "        optimizer_D.zero_grad()\n",
        "\n",
        "        # Real EEG\n",
        "        real_targets = torch.ones(batch_size, 1).to(device)\n",
        "        pred_real = discriminator(real_eeg, real_labels)\n",
        "        loss_real = criterion(pred_real, real_targets)\n",
        "\n",
        "        # Fake EEG\n",
        "        z = torch.randn(batch_size, latent_dim).to(device)\n",
        "        fake_labels = real_labels\n",
        "        fake_eeg = generator(z, fake_labels)\n",
        "        fake_targets = torch.zeros(batch_size, 1).to(device)\n",
        "        pred_fake = discriminator(fake_eeg.detach(), fake_labels)\n",
        "        loss_fake = criterion(pred_fake, fake_targets)\n",
        "\n",
        "        # Combine & update\n",
        "        d_loss = loss_real + loss_fake\n",
        "        d_loss.backward()\n",
        "        optimizer_D.step()\n",
        "\n",
        "        # -----------------\n",
        "        #  Train Generator\n",
        "        # -----------------\n",
        "        optimizer_G.zero_grad()\n",
        "\n",
        "        pred_fake_for_g = discriminator(fake_eeg, fake_labels)\n",
        "        g_loss = criterion(pred_fake_for_g, real_targets)\n",
        "        g_loss.backward()\n",
        "        optimizer_G.step()\n",
        "\n",
        "        epoch_d_loss += d_loss.item()\n",
        "        epoch_g_loss += g_loss.item()\n",
        "\n",
        "    print(f\"Epoch [{epoch}/{epochs}] | Avg D_loss: {epoch_d_loss/num_batches:.4f} | Avg G_loss: {epoch_g_loss/num_batches:.4f}\")"
      ],
      "metadata": {
        "trusted": true,
        "execution": {
          "iopub.status.busy": "2025-01-18T11:51:33.042858Z",
          "iopub.execute_input": "2025-01-18T11:51:33.043147Z",
          "iopub.status.idle": "2025-01-18T12:00:45.151545Z",
          "shell.execute_reply.started": "2025-01-18T11:51:33.043127Z",
          "shell.execute_reply": "2025-01-18T12:00:45.150486Z"
        },
        "id": "1A7Oc_dTXvfa"
      },
      "outputs": [],
      "execution_count": null
    },
    {
      "cell_type": "code",
      "source": [
        "import os\n",
        "import numpy as np\n",
        "import torch\n",
        "\n",
        "# Assuming generator, latent_dim, num_classes, and device are already defined\n",
        "output_dir = \"./output\"\n",
        "os.makedirs(output_dir, exist_ok=True)\n",
        "\n",
        "# Calculate class distribution in training data\n",
        "class_counts = np.bincount(train_labels.numpy())\n",
        "total_samples = len(train_labels)\n",
        "class_ratios = class_counts / total_samples\n",
        "\n",
        "# Set the total number of synthetic samples to generate\n",
        "total_synthetic_samples = 5608  # Adjust as needed\n",
        "synthetic_samples_per_class = (class_ratios * total_synthetic_samples).astype(int)\n",
        "\n",
        "# Generate synthetic EEG data while maintaining class ratio\n",
        "generator.eval()\n",
        "for class_idx, num_samples in enumerate(synthetic_samples_per_class):\n",
        "    if num_samples == 0:  # Skip classes with no samples\n",
        "        continue\n",
        "\n",
        "    z = torch.randn(num_samples, latent_dim).to(device)\n",
        "    class_label = torch.zeros(num_samples, num_classes).to(device)\n",
        "    class_label[:, class_idx] = 1  # One-hot encode the class label\n",
        "\n",
        "    with torch.no_grad():\n",
        "        synthetic_eeg = generator(z, class_label)\n",
        "\n",
        "        # Save synthetic EEG data class-wise\n",
        "        output_file = os.path.join(output_dir, f\"synthetic_eeg_{class_idx}.npy\")\n",
        "        np.save(output_file, synthetic_eeg.cpu().numpy())\n",
        "        print(f\"Saved synthetic EEG data for class {class_idx} to {output_file}\")\n"
      ],
      "metadata": {
        "trusted": true,
        "execution": {
          "iopub.status.busy": "2025-01-18T12:03:24.461082Z",
          "iopub.execute_input": "2025-01-18T12:03:24.461374Z",
          "iopub.status.idle": "2025-01-18T12:03:24.669051Z",
          "shell.execute_reply.started": "2025-01-18T12:03:24.461344Z",
          "shell.execute_reply": "2025-01-18T12:03:24.66833Z"
        },
        "id": "oEWn68BzXvfa"
      },
      "outputs": [],
      "execution_count": null
    },
    {
      "cell_type": "code",
      "source": [
        "total_samples"
      ],
      "metadata": {
        "trusted": true,
        "execution": {
          "iopub.status.busy": "2025-01-18T12:02:36.448048Z",
          "iopub.execute_input": "2025-01-18T12:02:36.448325Z",
          "iopub.status.idle": "2025-01-18T12:02:36.453422Z",
          "shell.execute_reply.started": "2025-01-18T12:02:36.448303Z",
          "shell.execute_reply": "2025-01-18T12:02:36.452549Z"
        },
        "id": "sFYL68JCXvfb"
      },
      "outputs": [],
      "execution_count": null
    },
    {
      "cell_type": "code",
      "source": [
        "synthetic_samples_per_class"
      ],
      "metadata": {
        "trusted": true,
        "execution": {
          "iopub.status.busy": "2025-01-18T12:03:03.534641Z",
          "iopub.execute_input": "2025-01-18T12:03:03.534969Z",
          "iopub.status.idle": "2025-01-18T12:03:03.539793Z",
          "shell.execute_reply.started": "2025-01-18T12:03:03.534943Z",
          "shell.execute_reply": "2025-01-18T12:03:03.539017Z"
        },
        "id": "hmnLG_nxXvfb"
      },
      "outputs": [],
      "execution_count": null
    },
    {
      "cell_type": "code",
      "source": [
        "# import numpy as np\n",
        "# from scipy.linalg import sqrtm\n",
        "\n",
        "# def calculate_fid(real_features, generated_features):\n",
        "#     # Calculate mean and covariance of real features\n",
        "#     mu_r = np.mean(real_features, axis=0)\n",
        "#     sigma_r = np.cov(real_features, rowvar=False)\n",
        "\n",
        "#     # Calculate mean and covariance of generated features\n",
        "#     mu_g = np.mean(generated_features, axis=0)\n",
        "#     sigma_g = np.cov(generated_features, rowvar=False)\n",
        "\n",
        "#     # Calculate squared difference of means\n",
        "#     diff = mu_r - mu_g\n",
        "#     mean_diff = np.sum(diff**2)\n",
        "\n",
        "#     # Compute square root of product of covariance matrices\n",
        "#     covmean, _ = sqrtm(sigma_r @ sigma_g, disp=False)\n",
        "\n",
        "#     # Handle numerical errors (non-positive semi-definite results)\n",
        "#     if np.iscomplexobj(covmean):\n",
        "#         covmean = covmean.real\n",
        "\n",
        "#     # Calculate FID score\n",
        "#     fid = mean_diff + np.trace(sigma_r + sigma_g - 2 * covmean)\n",
        "#     return fid\n",
        "\n",
        "# # Example usage\n",
        "# # real_features: Extracted features from real EEG samples (numpy array)\n",
        "# # generated_features: Extracted features from generated EEG samples (numpy array)\n",
        "\n",
        "# fid_score = calculate_fid(real_features, generated_features)\n",
        "# print(f\"FID Score: {fid_score}\")\n"
      ],
      "metadata": {
        "trusted": true,
        "execution": {
          "iopub.status.busy": "2025-01-18T12:00:45.222845Z",
          "iopub.execute_input": "2025-01-18T12:00:45.22305Z",
          "iopub.status.idle": "2025-01-18T12:00:45.226655Z",
          "shell.execute_reply.started": "2025-01-18T12:00:45.223032Z",
          "shell.execute_reply": "2025-01-18T12:00:45.225837Z"
        },
        "id": "Q9M78e3RXvfb"
      },
      "outputs": [],
      "execution_count": null
    }
  ]
}